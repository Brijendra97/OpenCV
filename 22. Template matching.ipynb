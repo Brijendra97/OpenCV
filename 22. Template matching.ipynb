{
 "cells": [
  {
   "cell_type": "code",
   "execution_count": 1,
   "metadata": {},
   "outputs": [],
   "source": [
    "# method of searching and finding loaction of template image inside a large image"
   ]
  },
  {
   "cell_type": "code",
   "execution_count": 2,
   "metadata": {},
   "outputs": [],
   "source": [
    "import numpy as np\n",
    "import cv2"
   ]
  },
  {
   "cell_type": "code",
   "execution_count": 9,
   "metadata": {},
   "outputs": [
    {
     "name": "stdout",
     "output_type": "stream",
     "text": [
      "[[-0.24663648 -0.23268715 -0.2116028  ... -0.03647315 -0.03088495\n",
      "  -0.02199848]\n",
      " [-0.22071598 -0.20804223 -0.18874946 ... -0.04720474 -0.04562795\n",
      "  -0.04027159]\n",
      " [-0.19542749 -0.18433312 -0.16611099 ... -0.05731418 -0.05999509\n",
      "  -0.05907761]\n",
      " ...\n",
      " [ 0.27279875  0.27073586  0.26886454 ...  0.02314194  0.01292384\n",
      "   0.01420074]\n",
      " [ 0.28848252  0.29746178  0.3006717  ... -0.03937317 -0.04559938\n",
      "  -0.05528527]\n",
      " [ 0.3167503   0.30737814  0.31032956 ... -0.07842574 -0.07554857\n",
      "  -0.07771272]]\n",
      "(array([85], dtype=int64), array([220], dtype=int64))\n"
     ]
    }
   ],
   "source": [
    "img = cv2.imread('Images/messi5.jpg')\n",
    "grey_img = cv2.cvtColor(img,cv2.COLOR_BGR2GRAY)\n",
    "template = cv2.imread('Images/messi_face.jpg',0)\n",
    "\n",
    "w,h = template.shape[::-1]\n",
    "\n",
    "res = cv2.matchTemplate(grey_img,template,cv2.TM_CCOEFF_NORMED)\n",
    "print(res)\n",
    "\n",
    "threshold = 0.9;\n",
    "loc = np.where(res >= threshold)\n",
    "print(loc)\n",
    "\n",
    "for pt in zip(*loc[::-1]):\n",
    "    cv2.rectangle(img,pt,(pt[0]+w,pt[1]+h),(0,0,255),2)\n",
    "\n",
    "\n",
    "cv2.imshow('img',img)\n",
    "cv2.waitKey(0)\n",
    "cv2.destroyAllWindows()"
   ]
  },
  {
   "cell_type": "code",
   "execution_count": null,
   "metadata": {},
   "outputs": [],
   "source": []
  }
 ],
 "metadata": {
  "kernelspec": {
   "display_name": "Python 3",
   "language": "python",
   "name": "python3"
  },
  "language_info": {
   "codemirror_mode": {
    "name": "ipython",
    "version": 3
   },
   "file_extension": ".py",
   "mimetype": "text/x-python",
   "name": "python",
   "nbconvert_exporter": "python",
   "pygments_lexer": "ipython3",
   "version": "3.8.3"
  }
 },
 "nbformat": 4,
 "nbformat_minor": 4
}
