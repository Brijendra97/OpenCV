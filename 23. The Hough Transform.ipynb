{
 "cells": [
  {
   "cell_type": "code",
   "execution_count": null,
   "metadata": {},
   "outputs": [],
   "source": [
    "# It is a popular technique to detect any shape, if you can represent\n",
    "# that shape in a mathematical form. It can detect the shape even if it is\n",
    "# broken or distorted a little bit."
   ]
  },
  {
   "cell_type": "code",
   "execution_count": null,
   "metadata": {},
   "outputs": [],
   "source": [
    "# Hough Transformation algorithm"
   ]
  },
  {
   "cell_type": "code",
   "execution_count": null,
   "metadata": {},
   "outputs": [],
   "source": [
    "# 1. Edge detection, e.g. using the Canny edge detector.\n",
    "# 2. Mapping of edge points to the Hough space and storage in an accumulator.\n",
    "# 3. Interpretation of the accumulator to yield lines of infinite length.\n",
    "#    The interpretation is done by thresholding and possible other constraints.\n",
    "# 4. Conversion of infinite lines to finite lines."
   ]
  },
  {
   "cell_type": "code",
   "execution_count": null,
   "metadata": {},
   "outputs": [],
   "source": [
    "# opencv implements two kind of Hough line transforms\n",
    "# 1. the standard hough transform (HoughLines method)\n",
    "# 2. the probabilistic hough line transform (HoughLinesP method)"
   ]
  },
  {
   "cell_type": "markdown",
   "metadata": {},
   "source": [
    "# 1. Standard hough transform"
   ]
  },
  {
   "cell_type": "code",
   "execution_count": 1,
   "metadata": {},
   "outputs": [],
   "source": [
    "import cv2\n",
    "import numpy as np"
   ]
  },
  {
   "cell_type": "code",
   "execution_count": 2,
   "metadata": {},
   "outputs": [],
   "source": [
    "img = cv2.imread('Images/sudoku.png')\n",
    "gray = cv2.cvtColor(img,cv2.COLOR_BGR2GRAY)\n",
    "edges = cv2.Canny(gray,50,150,apertureSize=3)\n",
    "cv2.imshow('edges',edges)\n",
    "lines = cv2.HoughLines(edges,1,np.pi/180,200)\n",
    "\n",
    "for line in lines:\n",
    "    rho,theta = line[0]\n",
    "    a = np.cos(theta)\n",
    "    b = np.sin(theta)\n",
    "    x0 = a * rho\n",
    "    y0 = b * rho\n",
    "    \n",
    "    # x1 stores the rounded off value of ( r*cos(theta)-1000*sin(theta))\n",
    "    x1 = int(x0 + 1000 * (-b))\n",
    "     # y1 stores the rounded off value of ( r*sin(theta)+1000*cos(theta))\n",
    "    y1 = int(y0 + 1000 * (a))\n",
    "     # x2 stores the rounded off value of ( r*cos(theta)+1000*sin(theta))\n",
    "    x2 = int(x0 - 1000 * (-b))\n",
    "     # y2 stores the rounded off value of ( r*sin(theta)-1000*cos(theta))\n",
    "    y2 = int(y0 - 1000 * (a))\n",
    "    \n",
    "    cv2.line(img,(x1,y1),(x2,y2),(0,0,255),2)\n",
    "\n",
    "cv2.imshow('image',img)\n",
    "cv2.waitKey(0)\n",
    "cv2.destroyAllWindows()\n",
    "    \n",
    "    \n",
    "    \n",
    "    \n"
   ]
  },
  {
   "cell_type": "markdown",
   "metadata": {},
   "source": [
    "# 2. The probabilistic hough line transform "
   ]
  },
  {
   "cell_type": "code",
   "execution_count": 4,
   "metadata": {},
   "outputs": [],
   "source": [
    "img = cv2.imread('Images/sudoku.png')\n",
    "gray = cv2.cvtColor(img,cv2.COLOR_BGR2GRAY)\n",
    "edges = cv2.Canny(gray,50,150,apertureSize=3)\n",
    "cv2.imshow('edges',edges)\n",
    "lines = cv2.HoughLinesP(edges,1,np.pi/180,100,minLineLength=100,maxLineGap=10)\n",
    "\n",
    "for line in lines:\n",
    "    x1,y1,x2,y2 = line[0]\n",
    "    cv2.line(img,(x1,y1),(x2,y2),(0,255,0),2)\n",
    "\n",
    "cv2.imshow('image',img)\n",
    "cv2.waitKey(0)\n",
    "cv2.destroyAllWindows()\n",
    "    \n",
    "    \n",
    "    \n",
    "    \n"
   ]
  },
  {
   "cell_type": "code",
   "execution_count": null,
   "metadata": {},
   "outputs": [],
   "source": []
  }
 ],
 "metadata": {
  "kernelspec": {
   "display_name": "Python 3",
   "language": "python",
   "name": "python3"
  },
  "language_info": {
   "codemirror_mode": {
    "name": "ipython",
    "version": 3
   },
   "file_extension": ".py",
   "mimetype": "text/x-python",
   "name": "python",
   "nbconvert_exporter": "python",
   "pygments_lexer": "ipython3",
   "version": "3.8.3"
  }
 },
 "nbformat": 4,
 "nbformat_minor": 4
}
