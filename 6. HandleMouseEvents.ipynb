{
 "cells": [
  {
   "cell_type": "code",
   "execution_count": 1,
   "metadata": {},
   "outputs": [],
   "source": [
    "import numpy as np\n",
    "import cv2"
   ]
  },
  {
   "cell_type": "code",
   "execution_count": null,
   "metadata": {},
   "outputs": [],
   "source": [
    "events = [i for i in dir(cv2) if 'EVENT' in i]\n",
    "# checking all events\n",
    "print(events)"
   ]
  },
  {
   "cell_type": "code",
   "execution_count": null,
   "metadata": {},
   "outputs": [],
   "source": [
    "def click_events(event,x,y,flags,params):\n",
    "    if event == cv2.EVENT_LBUTTONDOWN:\n",
    "        print(x,',',y)\n",
    "        font = cv2.FONT_HERSHEY_SIMPLEX\n",
    "        strXY = str(x) + ', ' + str(y)\n",
    "        cv2.putText(img,strXY,(x,y),font,1,(255,255,0),2)\n",
    "        cv2.imshow('image',img)\n",
    "        \n",
    "img = np.zeros((512,512,3),np.uint8)\n",
    "cv2.imshow('image',img)\n",
    "\n",
    "cv2.setMouseCallback('image',click_events)\n",
    "cv2.waitKey(0)\n",
    "cv2.destroyAllWindows()"
   ]
  },
  {
   "cell_type": "code",
   "execution_count": 2,
   "metadata": {},
   "outputs": [
    {
     "name": "stdout",
     "output_type": "stream",
     "text": [
      "18 , 22\n",
      "65 , 73\n",
      "270 , 181\n",
      "295 , 63\n",
      "227 , 160\n",
      "144 , 305\n",
      "403 , 239\n",
      "400 , 320\n",
      "314 , 370\n",
      "233 , 389\n",
      "204 , 403\n",
      "140 , 361\n",
      "105 , 286\n",
      "98 , 190\n",
      "115 , 168\n",
      "155 , 149\n",
      "219 , 140\n"
     ]
    }
   ],
   "source": [
    "def click_events(event,x,y,flags,params):\n",
    "    if event == cv2.EVENT_LBUTTONDOWN:\n",
    "        print(x,',',y)\n",
    "        font = cv2.FONT_HERSHEY_SIMPLEX\n",
    "        strXY = str(x) + ', ' + str(y)\n",
    "        cv2.putText(img,strXY,(x,y),font,0.5,(255,255,0),2)\n",
    "        cv2.imshow('image',img)\n",
    "    if event == cv2.EVENT_RBUTTONDOWN:\n",
    "        blue = img[y,x,0]\n",
    "        green = img[y,x,1]\n",
    "        red = img[y,x,2]\n",
    "        font = cv2.FONT_HERSHEY_SIMPLEX\n",
    "        strBGR = str(blue) + ', ' + str(green) + ', ' + str(red)\n",
    "        cv2.putText(img,strBGR,(x,y),font,0.5,(255,0,0),2)\n",
    "        cv2.imshow('image',img)\n",
    "img = np.zeros((512,512,3),np.uint8)\n",
    "cv2.imshow('image',img)\n",
    "\n",
    "cv2.setMouseCallback('image',click_events)\n",
    "cv2.waitKey(0)\n",
    "cv2.destroyAllWindows()"
   ]
  },
  {
   "cell_type": "code",
   "execution_count": 3,
   "metadata": {},
   "outputs": [
    {
     "name": "stdout",
     "output_type": "stream",
     "text": [
      "39 , 36\n",
      "55 , 80\n",
      "94 , 135\n",
      "236 , 183\n",
      "246 , 115\n",
      "352 , 227\n",
      "77 , 232\n",
      "136 , 260\n",
      "352 , 370\n",
      "291 , 317\n",
      "323 , 454\n",
      "182 , 453\n",
      "80 , 313\n",
      "55 , 408\n",
      "42 , 326\n",
      "34 , 232\n",
      "241 , 26\n"
     ]
    }
   ],
   "source": [
    "def click_events(event,x,y,flags,params):\n",
    "    if event == cv2.EVENT_LBUTTONDOWN:\n",
    "        print(x,',',y)\n",
    "        font = cv2.FONT_HERSHEY_SIMPLEX\n",
    "        strXY = str(x) + ', ' + str(y)\n",
    "        cv2.putText(img,strXY,(x,y),font,0.5,(255,255,0),2)\n",
    "        cv2.imshow('image',img)\n",
    "    if event == cv2.EVENT_RBUTTONDOWN:\n",
    "        blue = img[y,x,0]\n",
    "        green = img[y,x,1]\n",
    "        red = img[y,x,2]\n",
    "        font = cv2.FONT_HERSHEY_SIMPLEX\n",
    "        strBGR = str(blue) + ', ' + str(green) + ', ' + str(red)\n",
    "        cv2.putText(img,strBGR,(x,y),font,0.5,(255,0,0),2)\n",
    "        cv2.imshow('image',img)\n",
    "# img = np.zeros((512,512,3),np.uint8)\n",
    "img = cv2.imread('Images/lena.jpg')\n",
    "cv2.imshow('image',img)\n",
    "\n",
    "cv2.setMouseCallback('image',click_events)\n",
    "cv2.waitKey(0)\n",
    "cv2.destroyAllWindows()"
   ]
  },
  {
   "cell_type": "markdown",
   "metadata": {},
   "source": [
    "# More mouse events"
   ]
  },
  {
   "cell_type": "code",
   "execution_count": 7,
   "metadata": {},
   "outputs": [],
   "source": [
    "def click_events(event,x,y,flags,params):\n",
    "    if event == cv2.EVENT_LBUTTONDOWN:\n",
    "        \n",
    "        cv2.circle(img,(x,y),3,(0,0,255),-1)\n",
    "        points.append((x,y))\n",
    "        if len(points) >= 2:\n",
    "            cv2.line(img,points[-1],points[-2],(255,0,0),5)\n",
    "        cv2.imshow('image',img)\n",
    "    \n",
    "    \n",
    "# img = np.zeros((512,512,3),np.uint8)\n",
    "img = np.zeros((512,512,3),np.uint8)\n",
    "cv2.imshow('image',img)\n",
    "\n",
    "points = []\n",
    "\n",
    "\n",
    "cv2.setMouseCallback('image',click_events)\n",
    "cv2.waitKey(0)\n",
    "cv2.destroyAllWindows()"
   ]
  },
  {
   "cell_type": "code",
   "execution_count": 8,
   "metadata": {},
   "outputs": [],
   "source": [
    "def click_events(event,x,y,flags,params):\n",
    "    if event == cv2.EVENT_LBUTTONDOWN:\n",
    "        \n",
    "        blue = img[x,y,0]\n",
    "        green = img[x,y,1]\n",
    "        red = img[x,y,2]\n",
    "        \n",
    "        cv2.circle(img,(x,y),3,(0,0,255),-1)\n",
    "        mycolorImage = np.zeros((512,512,3),np.uint8)\n",
    "        mycolorImage[:] = [blue,green,red]\n",
    "        \n",
    "        cv2.imshow('color',mycolorImage)\n",
    "    \n",
    "    \n",
    "# img = np.zeros((512,512,3),np.uint8)\n",
    "img = cv2.imread('Images/lena.jpg')\n",
    "cv2.imshow('image',img)\n",
    "\n",
    "points = []\n",
    "\n",
    "\n",
    "cv2.setMouseCallback('image',click_events)\n",
    "cv2.waitKey(0)\n",
    "cv2.destroyAllWindows()"
   ]
  },
  {
   "cell_type": "code",
   "execution_count": null,
   "metadata": {},
   "outputs": [],
   "source": []
  }
 ],
 "metadata": {
  "kernelspec": {
   "display_name": "Python 3",
   "language": "python",
   "name": "python3"
  },
  "language_info": {
   "codemirror_mode": {
    "name": "ipython",
    "version": 3
   },
   "file_extension": ".py",
   "mimetype": "text/x-python",
   "name": "python",
   "nbconvert_exporter": "python",
   "pygments_lexer": "ipython3",
   "version": "3.8.3"
  }
 },
 "nbformat": 4,
 "nbformat_minor": 4
}
