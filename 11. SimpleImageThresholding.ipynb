{
 "cells": [
  {
   "cell_type": "code",
   "execution_count": 4,
   "metadata": {},
   "outputs": [],
   "source": [
    "import cv2 \n",
    "import numpy as np"
   ]
  },
  {
   "cell_type": "code",
   "execution_count": 5,
   "metadata": {},
   "outputs": [],
   "source": [
    "# thresholding is removing backgroud from the image"
   ]
  },
  {
   "cell_type": "code",
   "execution_count": 14,
   "metadata": {},
   "outputs": [],
   "source": [
    "img = cv2.imread('Images/gradient.png',0)\n",
    "\n",
    "# _,th1 = cv2.threshold(img,127,255,cv2.THRESH_BINARY) # 0 or 1\n",
    "# _,th2 = cv2.threshold(img,127,255,cv2.THRESH_BINARY_INV) \n",
    "# _,th3 = cv2.threshold(img,127,255,cv2.THRESH_TRUNC) # after 127 value remain 127 not change\n",
    "# _,th4 = cv2.threshold(img,127,255,cv2.THRESH_TOZERO) # when less then 127 then set to 0 otherwise same\n",
    "_,th5 = cv2.threshold(img,127,255,cv2.THRESH_TOZERO_INV)\n",
    "\n",
    "\n",
    "cv2.imshow(\"Image\",img)\n",
    "\n",
    "# cv2.imshow(\"th1\",th1)\n",
    "# cv2.imshow(\"th2\",th2)\n",
    "# cv2.imshow(\"th3\",th3)\n",
    "#cv2.imshow(\"th4\",th4)\n",
    "cv2.imshow(\"th5\",th5)\n",
    "\n",
    "cv2.waitKey(0)\n",
    "cv.destroyAllWindows()"
   ]
  },
  {
   "cell_type": "markdown",
   "metadata": {},
   "source": [
    "# Adaptive Thresholding"
   ]
  },
  {
   "cell_type": "code",
   "execution_count": 17,
   "metadata": {},
   "outputs": [],
   "source": [
    "# calculated for specific region\n",
    "img = cv2.imread('Images/sudoku.png',0)\n",
    "\n",
    "_,th1 = cv2.threshold(img,127,255,cv2.THRESH_BINARY) \n",
    "#th2 = cv2.adaptiveThreshold(img,255,cv2.ADAPTIVE_THRESH_MEAN_C,cv2.THRESH_BINARY,11,2) # mean of neighbor area\n",
    "th3 = cv2. adaptiveThreshold(img,255,cv2.ADAPTIVE_THRESH_GAUSSIAN_C,cv2.THRESH_BINARY,11,2)\n",
    "\n",
    "cv2.imshow(\"Image\",img)\n",
    "\n",
    "#cv2.imshow(\"th2\",th2)\n",
    "cv2.imshow('th3',th3)\n",
    "\n",
    "cv2.waitKey(0)\n",
    "cv.destroyAllWindows()"
   ]
  },
  {
   "cell_type": "code",
   "execution_count": null,
   "metadata": {},
   "outputs": [],
   "source": []
  }
 ],
 "metadata": {
  "kernelspec": {
   "display_name": "Python 3",
   "language": "python",
   "name": "python3"
  },
  "language_info": {
   "codemirror_mode": {
    "name": "ipython",
    "version": 3
   },
   "file_extension": ".py",
   "mimetype": "text/x-python",
   "name": "python",
   "nbconvert_exporter": "python",
   "pygments_lexer": "ipython3",
   "version": "3.8.3"
  }
 },
 "nbformat": 4,
 "nbformat_minor": 4
}
