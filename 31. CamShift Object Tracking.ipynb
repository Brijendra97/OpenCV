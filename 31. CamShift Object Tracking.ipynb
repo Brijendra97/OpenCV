{
 "cells": [
  {
   "cell_type": "code",
   "execution_count": 1,
   "metadata": {},
   "outputs": [],
   "source": [
    "import numpy as np\n",
    "import cv2"
   ]
  },
  {
   "cell_type": "code",
   "execution_count": null,
   "metadata": {},
   "outputs": [],
   "source": [
    "cap = cv2.VideoCapture(0)\n",
    "\n",
    "# take first frame of the video\n",
    "ret,frame = cap.read()\n",
    "\n",
    "# set up initial location of window\n",
    "x, y, w, h = 300,200,100,50\n",
    "track_window = (x,y,w,h)\n",
    "\n",
    "\n",
    "# set up the ROI for tracking\n",
    "roi = frame[y:y+h,x:x+w]\n",
    "hsv_roi = cv2.cvtColor(roi,cv2.COLOR_BGR2HSV)\n",
    "mask = cv2.inRange(hsv_roi,np.array((0.,60.,32.)),np.array((180.,255.,255)))\n",
    "roi_hist = cv2.calcHist([hsv_roi],[0],mask,[180],[0,180])\n",
    "cv2.normalize(roi_hist,roi_hist,0,255,cv2.NORM_MINMAX)\n",
    "\n",
    "\n",
    "\n",
    "# setup the termination criteria, either 10 iteration or move by atleast 1 pt\n",
    "\n",
    "term_crit = (cv2.TERM_CRITERIA_EPS | cv2.TERM_CRITERIA_COUNT,10,1)\n",
    "\n",
    "\n",
    "while(1):\n",
    "    ret,frame = cap.read()\n",
    "    if ret == True:\n",
    "        hsv = cv2.cvtColor(frame,cv2.COLOR_BGR2HSV)\n",
    "        dst = cv2.calcBackProject([hsv],[0],[0,180],1)\n",
    "        \n",
    "        # apply meanshift to get the new location\n",
    "        ret,track_window = cv2.CamShift(dst,track_window,term_crit)\n",
    "        # Draw it on image\n",
    "        x,y,w,h = track_window\n",
    "        final_image = cv2.rectangle(frame,(x,y),(x+w,y+h),255,3)\n",
    "        \n",
    "        c2.imshow('final_image',final_image)\n",
    "        c2.imshow('frame',frame)\n",
    "        k = cv2.waitkey(30) \n",
    "        if k == 27:\n",
    "            break\n",
    "        else:\n",
    "            break"
   ]
  }
 ],
 "metadata": {
  "kernelspec": {
   "display_name": "Python 3",
   "language": "python",
   "name": "python3"
  },
  "language_info": {
   "codemirror_mode": {
    "name": "ipython",
    "version": 3
   },
   "file_extension": ".py",
   "mimetype": "text/x-python",
   "name": "python",
   "nbconvert_exporter": "python",
   "pygments_lexer": "ipython3",
   "version": "3.8.3"
  }
 },
 "nbformat": 4,
 "nbformat_minor": 4
}
