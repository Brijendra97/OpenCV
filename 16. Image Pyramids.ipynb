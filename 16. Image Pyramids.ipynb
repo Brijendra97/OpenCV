{
 "cells": [
  {
   "cell_type": "code",
   "execution_count": null,
   "metadata": {},
   "outputs": [],
   "source": [
    "# Pyramid representation is a type of multi-scale signal\n",
    "# representation in which a signal or an image is a subject\n",
    "# to repeated smoothing and subsampling.\n",
    "\n",
    "# 1. Gaussian pyramid\n",
    "# 2. Laplacian pyramid"
   ]
  },
  {
   "cell_type": "code",
   "execution_count": 1,
   "metadata": {},
   "outputs": [],
   "source": [
    "import numpy as np\n",
    "import matplotlib.pyplot as plt\n",
    "import cv2"
   ]
  },
  {
   "cell_type": "code",
   "execution_count": 6,
   "metadata": {},
   "outputs": [],
   "source": [
    "img = cv2.imread('Images/lena.jpg')\n",
    "\n",
    "lr1 = cv2.pyrDown(img)\n",
    "lr2 = cv2.pyrDown(lr1)\n",
    "\n",
    "hr2 = cv2.pyrUp(lr2)\n",
    "\n",
    "\n",
    "cv2.imshow('Original image',img)\n",
    "cv2.imshow('pyrDown1',lr1)\n",
    "cv2.imshow('pyrDown2',lr2)\n",
    "cv2.imshow('pyrUp',hr2)\n",
    "cv2.waitKey(0)\n",
    "cv2.destroyAllWindows()"
   ]
  },
  {
   "cell_type": "code",
   "execution_count": 7,
   "metadata": {},
   "outputs": [],
   "source": [
    "layer = img.copy()\n",
    "gp = [layer]\n",
    "\n",
    "for i in range(6):\n",
    "    layer = cv2.pyrDown(layer)\n",
    "    gp.append(layer)\n",
    "    cv2.imshow(str(i),layer)\n",
    "\n",
    "cv2.imshow('Original image',img)\n",
    "\n",
    "cv2.waitKey(0)\n",
    "cv2.destroyAllWindows()"
   ]
  },
  {
   "cell_type": "code",
   "execution_count": 8,
   "metadata": {},
   "outputs": [],
   "source": [
    "# 2. Laplacian"
   ]
  },
  {
   "cell_type": "code",
   "execution_count": 9,
   "metadata": {},
   "outputs": [],
   "source": [
    "# A level in Laplacian pyramid is formed by the difference between \n",
    "# that level in Gaussian Pyramid and expanded version of its upper level \n",
    "# in Gaussian pyramid."
   ]
  },
  {
   "cell_type": "code",
   "execution_count": 10,
   "metadata": {},
   "outputs": [],
   "source": [
    "layer = img.copy()\n",
    "gp = [layer]\n",
    "\n",
    "for i in range(6):\n",
    "    layer = cv2.pyrDown(layer)\n",
    "    gp.append(layer)\n",
    "    # cv2.imshow(str(i),layer)\n",
    "\n",
    "    \n",
    "layer = gp[5] # last image\n",
    "cv2.imshow('upper level Gaussian Pyramid',layer)\n",
    "lp = [layer]\n",
    "\n",
    "for i in range(5,0,-1):\n",
    "    gaussian_extended = cv2.pyrUp(gp[i]) \n",
    "    laplacian = cv2.subtract(gp[i-1],gaussian_extended)\n",
    "    cv2.imshow(str(i),laplacian)\n",
    "    \n",
    "cv2.imshow('Original image',img)\n",
    "\n",
    "cv2.waitKey(0)\n",
    "cv2.destroyAllWindows()"
   ]
  },
  {
   "cell_type": "code",
   "execution_count": null,
   "metadata": {},
   "outputs": [],
   "source": []
  }
 ],
 "metadata": {
  "kernelspec": {
   "display_name": "Python 3",
   "language": "python",
   "name": "python3"
  },
  "language_info": {
   "codemirror_mode": {
    "name": "ipython",
    "version": 3
   },
   "file_extension": ".py",
   "mimetype": "text/x-python",
   "name": "python",
   "nbconvert_exporter": "python",
   "pygments_lexer": "ipython3",
   "version": "3.8.3"
  }
 },
 "nbformat": 4,
 "nbformat_minor": 4
}
